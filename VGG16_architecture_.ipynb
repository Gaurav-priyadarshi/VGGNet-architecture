{
  "nbformat": 4,
  "nbformat_minor": 0,
  "metadata": {
    "colab": {
      "name": "VGGNet architecture .ipynb",
      "provenance": [],
      "collapsed_sections": []
    },
    "kernelspec": {
      "name": "python3",
      "display_name": "Python 3"
    },
    "language_info": {
      "name": "python"
    },
    "accelerator": "GPU"
  },
  "cells": [
    {
      "cell_type": "code",
      "metadata": {
        "id": "BZPAOFg7cNlu"
      },
      "source": [
        "# import all the important library\n",
        "from tensorflow.keras.layers import Dense,Flatten,Lambda,Input\n",
        "from tensorflow.keras.models import Model\n",
        "from tensorflow.keras.applications.vgg16 import VGG16\n",
        "from tensorflow.keras.preprocessing.image import ImageDataGenerator,load_img\n",
        "from tensorflow.keras.models import Sequential\n",
        "import glob\n",
        "import numpy as np\n",
        "import matplotlib.pyplot as plt"
      ],
      "execution_count": 1,
      "outputs": []
    },
    {
      "cell_type": "code",
      "metadata": {
        "id": "0Zu0AFeqe3BI"
      },
      "source": [
        "image_size = [224,224]\n",
        "train_path = '/content/drive/MyDrive/data/cats and dogs/train'\n",
        "test_path= '/content/drive/MyDrive/data/cats and dogs/validation'"
      ],
      "execution_count": 2,
      "outputs": []
    },
    {
      "cell_type": "code",
      "metadata": {
        "id": "dXGRfsWnfmTB"
      },
      "source": [
        "# import vgg16 models\n",
        "vgg16 = VGG16(input_shape=image_size+[3],include_top=False,weights='imagenet')\n",
        "for layer in vgg16.layers:\n",
        "  layer.trainable = False"
      ],
      "execution_count": 3,
      "outputs": []
    },
    {
      "cell_type": "code",
      "metadata": {
        "id": "Udcd8zm-gGh8"
      },
      "source": [
        "folder = glob.glob(train_path+'/*')"
      ],
      "execution_count": 4,
      "outputs": []
    },
    {
      "cell_type": "code",
      "metadata": {
        "colab": {
          "base_uri": "https://localhost:8080/"
        },
        "id": "9LHNgQSbgWj7",
        "outputId": "1e1aae06-dc86-427e-93da-38d0531a63e2"
      },
      "source": [
        "len(folder)"
      ],
      "execution_count": 5,
      "outputs": [
        {
          "output_type": "execute_result",
          "data": {
            "text/plain": [
              "2"
            ]
          },
          "metadata": {
            "tags": []
          },
          "execution_count": 5
        }
      ]
    },
    {
      "cell_type": "code",
      "metadata": {
        "id": "hoKoLYzqhWqS"
      },
      "source": [
        "x = Flatten()(vgg16.output)\n",
        "prediction = Dense(len(folder),activation='softmax')(x)\n",
        "model = Model(inputs = vgg16.input,outputs = prediction)"
      ],
      "execution_count": 6,
      "outputs": []
    },
    {
      "cell_type": "code",
      "metadata": {
        "colab": {
          "base_uri": "https://localhost:8080/"
        },
        "id": "HVb2SzO2iNR0",
        "outputId": "9570fd6a-05fe-4aa3-a400-21c55fa98103"
      },
      "source": [
        "model.summary()"
      ],
      "execution_count": 7,
      "outputs": [
        {
          "output_type": "stream",
          "text": [
            "Model: \"model\"\n",
            "_________________________________________________________________\n",
            "Layer (type)                 Output Shape              Param #   \n",
            "=================================================================\n",
            "input_1 (InputLayer)         [(None, 224, 224, 3)]     0         \n",
            "_________________________________________________________________\n",
            "block1_conv1 (Conv2D)        (None, 224, 224, 64)      1792      \n",
            "_________________________________________________________________\n",
            "block1_conv2 (Conv2D)        (None, 224, 224, 64)      36928     \n",
            "_________________________________________________________________\n",
            "block1_pool (MaxPooling2D)   (None, 112, 112, 64)      0         \n",
            "_________________________________________________________________\n",
            "block2_conv1 (Conv2D)        (None, 112, 112, 128)     73856     \n",
            "_________________________________________________________________\n",
            "block2_conv2 (Conv2D)        (None, 112, 112, 128)     147584    \n",
            "_________________________________________________________________\n",
            "block2_pool (MaxPooling2D)   (None, 56, 56, 128)       0         \n",
            "_________________________________________________________________\n",
            "block3_conv1 (Conv2D)        (None, 56, 56, 256)       295168    \n",
            "_________________________________________________________________\n",
            "block3_conv2 (Conv2D)        (None, 56, 56, 256)       590080    \n",
            "_________________________________________________________________\n",
            "block3_conv3 (Conv2D)        (None, 56, 56, 256)       590080    \n",
            "_________________________________________________________________\n",
            "block3_pool (MaxPooling2D)   (None, 28, 28, 256)       0         \n",
            "_________________________________________________________________\n",
            "block4_conv1 (Conv2D)        (None, 28, 28, 512)       1180160   \n",
            "_________________________________________________________________\n",
            "block4_conv2 (Conv2D)        (None, 28, 28, 512)       2359808   \n",
            "_________________________________________________________________\n",
            "block4_conv3 (Conv2D)        (None, 28, 28, 512)       2359808   \n",
            "_________________________________________________________________\n",
            "block4_pool (MaxPooling2D)   (None, 14, 14, 512)       0         \n",
            "_________________________________________________________________\n",
            "block5_conv1 (Conv2D)        (None, 14, 14, 512)       2359808   \n",
            "_________________________________________________________________\n",
            "block5_conv2 (Conv2D)        (None, 14, 14, 512)       2359808   \n",
            "_________________________________________________________________\n",
            "block5_conv3 (Conv2D)        (None, 14, 14, 512)       2359808   \n",
            "_________________________________________________________________\n",
            "block5_pool (MaxPooling2D)   (None, 7, 7, 512)         0         \n",
            "_________________________________________________________________\n",
            "flatten (Flatten)            (None, 25088)             0         \n",
            "_________________________________________________________________\n",
            "dense (Dense)                (None, 2)                 50178     \n",
            "=================================================================\n",
            "Total params: 14,764,866\n",
            "Trainable params: 50,178\n",
            "Non-trainable params: 14,714,688\n",
            "_________________________________________________________________\n"
          ],
          "name": "stdout"
        }
      ]
    },
    {
      "cell_type": "code",
      "metadata": {
        "id": "cpWvhTONiskc"
      },
      "source": [
        "model.compile(loss ='binary_crossentropy',optimizer='adam',metrics=['accuracy'])"
      ],
      "execution_count": 8,
      "outputs": []
    },
    {
      "cell_type": "code",
      "metadata": {
        "id": "2XYfzQ8Ni54J"
      },
      "source": [
        "## data augumentation\n",
        "train_data_gen = ImageDataGenerator(rescale= 1./255,shear_range=0.2,\n",
        "                                    zoom_range = 0.2,horizontal_flip = True)\n",
        "test_data_gen = ImageDataGenerator(rescale=1./255)"
      ],
      "execution_count": 9,
      "outputs": []
    },
    {
      "cell_type": "code",
      "metadata": {
        "colab": {
          "base_uri": "https://localhost:8080/"
        },
        "id": "IQzF3j6IjjeT",
        "outputId": "287a32ee-8505-487f-f269-c2cf63828757"
      },
      "source": [
        "## training and test dataset\n",
        "training_data = train_data_gen.flow_from_directory(directory=train_path,target_size=(224,224),\n",
        "                                                   class_mode='categorical',batch_size = 32)\n",
        "test_data =  train_data_gen.flow_from_directory(directory=test_path,target_size=(224,224),\n",
        "                                                   class_mode='categorical',batch_size = 32)"
      ],
      "execution_count": 10,
      "outputs": [
        {
          "output_type": "stream",
          "text": [
            "Found 53 images belonging to 2 classes.\n",
            "Found 44 images belonging to 2 classes.\n"
          ],
          "name": "stdout"
        }
      ]
    },
    {
      "cell_type": "code",
      "metadata": {
        "id": "uQERaOFIkPX-"
      },
      "source": [
        "#model_fitting\n",
        "model_fit = model.fit_generator(training_data,validation_data=test_data,\n",
        "                                epochs=100,steps_per_epoch = len(training_data),\n",
        "                                validation_steps = len(test_data))"
      ],
      "execution_count": null,
      "outputs": []
    },
    {
      "cell_type": "code",
      "metadata": {
        "id": "Trqnn5PvlC6V"
      },
      "source": [
        "## plotting loss,val_loss,accuracy and val_accuracy\n",
        "plt.plot(model_fit.history['loss'],label = 'train_loss')\n",
        "plt.plot(model_fit.history['val_loss'],label = 'test_loss')\n",
        "plt.legend()\n",
        "plt.show()"
      ],
      "execution_count": null,
      "outputs": []
    },
    {
      "cell_type": "code",
      "metadata": {
        "id": "3BeOXYmomjdu"
      },
      "source": [
        "plt.plot(model_fit.history['accuracy'],label = 'train_accuracy')\n",
        "plt.plot(model_fit.history['val_accuracy'],label = 'val_accuracy')\n",
        "plt.legend()\n",
        "plt.show()"
      ],
      "execution_count": null,
      "outputs": []
    },
    {
      "cell_type": "code",
      "metadata": {
        "id": "Wp35P8ukm9y5"
      },
      "source": [
        "## saving model\n",
        "from tensorflow.keras.models import load_model\n",
        "model.save('model_vgg16.h5')"
      ],
      "execution_count": null,
      "outputs": []
    },
    {
      "cell_type": "code",
      "metadata": {
        "id": "pMlTgwuBnN8V"
      },
      "source": [
        "#prediction\n",
        "y_pred = model.predict(test_data)"
      ],
      "execution_count": null,
      "outputs": []
    },
    {
      "cell_type": "code",
      "metadata": {
        "id": "WM3-tZVSzLGg"
      },
      "source": [
        "y_pred = np.argmax(y_pred,axis =1)\n"
      ],
      "execution_count": null,
      "outputs": []
    },
    {
      "cell_type": "code",
      "metadata": {
        "id": "1VZ9bLg41G4J"
      },
      "source": [
        "##  making the single image prediction \n",
        "from tensorflow.keras.preprocessing.image import img_to_array,array_to_img,load_img\n",
        "test_image = load_img('/content/drive/MyDrive/data/cats and dogs/validation/dog/dog.12202.jpg',target_size =(224,224))\n",
        "test_image = img_to_array(test_image)\n",
        "test_image = np.expand_dims(test_image,axis = 0)\n",
        "test_image_prediction = model.predict(test_image)"
      ],
      "execution_count": null,
      "outputs": []
    },
    {
      "cell_type": "code",
      "metadata": {
        "id": "0n6BEWwV7QP0"
      },
      "source": [
        ""
      ],
      "execution_count": null,
      "outputs": []
    },
    {
      "cell_type": "code",
      "metadata": {
        "id": "wZby6stz7Sj3"
      },
      "source": [
        ""
      ],
      "execution_count": null,
      "outputs": []
    }
  ]
}